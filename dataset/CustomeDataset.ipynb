{
 "cells": [
  {
   "cell_type": "code",
   "execution_count": 1,
   "metadata": {},
   "outputs": [],
   "source": [
    "import torch\n",
    "from torch.utils.data import Dataset\n",
    "from torch.utils.data import DataLoader\n",
    "import os\n",
    "import numpy as np\n",
    "from face_alignment import FaceAlignment, LandmarksType\n",
    "from torchvision import transforms\n",
    "import PIL\n",
    "import matplotlib.pyplot as plt\n",
    "import random\n",
    "\n",
    "from processVoxCelDataset import *"
   ]
  },
  {
   "cell_type": "code",
   "execution_count": 2,
   "metadata": {},
   "outputs": [],
   "source": [
    "class metaTrainVideoDataset(Dataset):\n",
    "    def __init__(self, K, rootDir, outputDir, randomFrame, device='gpu', transform=None):\n",
    "        '''\n",
    "\n",
    "        :param K:\n",
    "        :param rootDir: root directory of the video files\n",
    "        :param outputDir: output directory for generated landmarks\n",
    "        :param randomSeed: if none\n",
    "        :param device:\n",
    "        :param transform:\n",
    "        '''\n",
    "        self.K = K\n",
    "        self.rootDir = rootDir\n",
    "        self.outputDir = outputDir\n",
    "        self.randomFrame = randomFrame\n",
    "        self.device = device\n",
    "        self.transform = transform\n",
    "\n",
    "        self.videoList = generateVideoList(rootDir)\n",
    "        self.fa = FaceAlignment(LandmarksType._2D, device=device)\n",
    "        self.personNumber = len(os.listdir(rootDir))\n",
    "\n",
    "    def __len__(self):\n",
    "        return len(self.videoList)\n",
    "\n",
    "    def __getitem__(self, idx):\n",
    "        # get K+1 frames, K for embedder; 1 for generator\n",
    "        data = generateKSelectedFramesAndLandmarksForSpecificVideo(self.K + 1, self.videoList[idx], self.outputDir,\n",
    "                                                                   self.fa)\n",
    "        \n",
    "        if(self.randomFrame):\n",
    "            random.shuffle(data)\n",
    "\n",
    "        data_array = []\n",
    "        for d in data:\n",
    "            personId = d[\"personId\"]\n",
    "            frame = PIL.Image.fromarray(d['frame'], 'RGB')  # [H, W, 3]\n",
    "            landmarks = PIL.Image.fromarray(d['landmarks'], 'RGB')  # [H, W, 3]\n",
    "            if self.transform:\n",
    "                frame = self.transform(frame)  # [3, H, W]\n",
    "                landmarks = self.transform(landmarks)  # [3, H, W]\n",
    "            assert torch.is_tensor(frame), \"The source images must be converted to Tensors.\"\n",
    "            assert torch.is_tensor(landmarks), \"The source landmarks must be converted to Tensors.\"\n",
    "            data_array.append(torch.stack((frame, landmarks)))  # [2, 3, H, W]\n",
    "        data_array = torch.stack(data_array)  # [K+1, 2, 3, H, W]\n",
    "        \n",
    "        return personId, data_array\n",
    "#         return idx, data_array\n"
   ]
  },
  {
   "cell_type": "code",
   "execution_count": 3,
   "metadata": {},
   "outputs": [
    {
     "name": "stdout",
     "output_type": "stream",
     "text": [
      "01dfn2spqyE\n",
      "********\n",
      "5MkXgwdrmJw\n",
      "********\n",
      "7t6lfzvVaTM\n",
      "********\n",
      "8_a6O3vdlU0\n",
      "********\n",
      "ABlWCST1MPY\n",
      "********\n",
      "AXAl9BX9-sQ\n",
      "********\n",
      "b5TvWN3x0HA\n",
      "********\n",
      "blrmdIfXPwI\n",
      "********\n",
      "ddLPBVSzuPs\n",
      "********\n",
      "E6aqL_Nc410\n",
      "********\n",
      "gjYcaCzo7UU\n",
      "********\n",
      "hcr4tT9y3xs\n",
      "********\n",
      "iJOjkDq6rW8\n",
      "********\n",
      "kN2iEvnTHc4\n",
      "********\n",
      "kQJq9nFET5M\n",
      "********\n",
      "KtadqxztRBk\n",
      "********\n",
      "lvX8diWgriA\n",
      "********\n",
      "lZf1RB6l5Gs\n",
      "********\n",
      "M6PYYNz3pac\n",
      "********\n",
      "MuKhvYeekXU\n",
      "********\n",
      "Nd3m-TBtp6A\n",
      "********\n",
      "OLguY5ofUrY\n",
      "********\n",
      "QLKR38WeXB0\n",
      "********\n",
      "SFR_KWObD3o\n",
      "********\n",
      "tIpW24N_Ysk\n",
      "********\n",
      "U7PMtQkYWo8\n",
      "********\n",
      "UGu7qDKCDd8\n",
      "********\n",
      "utfjXffHDgg\n",
      "********\n",
      "wrB-yyERH2s\n",
      "********\n",
      "X9M79aB1RS4\n",
      "********\n",
      "yEXiX8Y2qoQ\n",
      "********\n",
      "_mjZ87sK6cA\n",
      "********\n",
      "0G9G9oyFHI8\n",
      "********\n",
      "1P5c4NQjGZY\n",
      "********\n",
      "2XrRfyv-EmE\n",
      "********\n",
      "46tdg4vE31g\n",
      "********\n",
      "4InoPp58-vw\n",
      "********\n",
      "4kSyBHethpE\n",
      "********\n",
      "7O-tNnnxIDY\n",
      "********\n",
      "apa3AUHl8kY\n",
      "********\n",
      "bdkqfVtDZVY\n",
      "********\n",
      "cAT9aR8oFx0\n",
      "********\n",
      "CQMAWovgG_M\n",
      "********\n",
      "Df_m1slf_hY\n",
      "********\n",
      "DlzVuw1K2qk\n",
      "********\n",
      "DM6gU2NY0wg\n",
      "********\n",
      "dYDZxcuCWOo\n",
      "********\n",
      "F5foYb2Iz2U\n",
      "********\n",
      "fwqvxgNOGEU\n",
      "********\n",
      "GtTmoAoWxMc\n",
      "********\n",
      "iwfkwFCgJKQ\n",
      "********\n",
      "j9s57GOtAwU\n",
      "********\n",
      "JT0TyEXWHe4\n",
      "********\n",
      "jT6eew_nWz4\n",
      "********\n",
      "JVdMDpxS3lw\n",
      "********\n",
      "ktgmlqasFYA\n",
      "********\n",
      "ljIkW4uVVQY\n",
      "********\n",
      "mGDqSD9XeOQ\n",
      "********\n",
      "mMOd25Ag7XY\n",
      "********\n",
      "MUgX_7VZXeY\n",
      "********\n",
      "NObN8ruuz9w\n",
      "********\n",
      "nrI2uwhFFto\n",
      "********\n",
      "ox2E2OUskTs\n",
      "********\n",
      "q5LMQleoQiw\n",
      "********\n",
      "rrdqJsdrS3o\n",
      "********\n",
      "ss7Ju2EqIpQ\n",
      "********\n",
      "STX1ycPt8fU\n",
      "********\n",
      "thHLZ8tDJ-M\n",
      "********\n",
      "tXcWoyzBhy8\n",
      "********\n",
      "vAPUy0eDK-M\n",
      "********\n",
      "vJss1I5BF-w\n",
      "********\n",
      "VugwXDj1ka4\n",
      "********\n",
      "yqnAD3Z75gk\n",
      "********\n",
      "2xYrsnvtUWc\n",
      "********\n",
      "5iGVQ364obk\n",
      "********\n",
      "5sk7wU0pjgU\n",
      "********\n",
      "7Oe0rLgFYP4\n",
      "********\n",
      "80uz1gAe6as\n",
      "********\n",
      "9TD4KSDoQNc\n",
      "********\n",
      "bOQ-y1GyXUA\n",
      "********\n",
      "BR3Zp9Raxp8\n",
      "********\n",
      "CoirzH4fByQ\n",
      "********\n",
      "cYXXH379T0c\n",
      "********\n",
      "d-6Uvy4WK3w\n",
      "********\n",
      "DN0z7aBy02Y\n",
      "********\n",
      "DqbzTtSoRnc\n",
      "********\n",
      "DSYxVo2HFdc\n",
      "********\n",
      "EvCyt2keqW4\n",
      "********\n",
      "hIBFutPzn8s\n",
      "********\n",
      "hw8famaiE64\n",
      "********\n",
      "ICIH8uZngXw\n",
      "********\n",
      "jO5DSKhhcqQ\n",
      "********\n",
      "KvzQojNqD7I\n",
      "********\n",
      "Mc32FOebXWw\n",
      "********\n",
      "Mc7XFTXvcNA\n",
      "********\n",
      "MUcOTjfw10E\n",
      "********\n",
      "oICidf_tyKI\n",
      "********\n",
      "OP-1HtS2Jmo\n",
      "********\n",
      "S4aLSTDVi44\n",
      "********\n",
      "SKyyj5-dYu4\n",
      "********\n",
      "t-nKXSL1wKQ\n",
      "********\n",
      "UPMvakRWOKc\n",
      "********\n",
      "vnEsqFqzC8k\n",
      "********\n",
      "vvLu_7TpP8c\n",
      "********\n",
      "w0Jxv9zDAEg\n",
      "********\n",
      "wAAMEC1OsRc\n",
      "********\n",
      "WJKmYaDUs20\n",
      "********\n",
      "W_KwXZ91imU\n",
      "********\n",
      "xHjcQJQHN0I\n",
      "********\n",
      "xjfPXNgzW6o\n",
      "********\n",
      "xlwJqdrzeMA\n",
      "********\n",
      "xPH8cnRr6XQ\n",
      "********\n",
      "YiZsQ7MND08\n",
      "********\n",
      "yRTDRu27qZg\n",
      "********\n",
      "Yz3TbgTcdvg\n",
      "********\n",
      "0hjW3eTGAy8\n",
      "********\n",
      "2pSNL5YdcoQ\n",
      "********\n",
      "6eX78POXvNg\n",
      "********\n",
      "9dgHOJUJhiE\n",
      "********\n",
      "9fjzHudmOZw\n",
      "********\n",
      "BuecddErOwU\n",
      "********\n",
      "Cz9kNJNVGSg\n",
      "********\n",
      "EEAluqPl5XA\n",
      "********\n",
      "geNO_h-jZOc\n",
      "********\n",
      "NAj3Ktm1KvA\n",
      "********\n",
      "NLH2ekd7AFg\n",
      "********\n",
      "Pkfu9rKM5QA\n",
      "********\n",
      "sweyu7UPmeg\n",
      "********\n",
      "TAr_N27eVus\n",
      "********\n",
      "v5k2h19Zoc8\n",
      "********\n",
      "V6iCAyc7AX4\n",
      "********\n",
      "x1n5gUFgA3Y\n",
      "********\n",
      "XBJTDI2UC2k\n",
      "********\n",
      "xH3Pp_5yxOk\n",
      "********\n",
      "z1dLArSg5PQ\n",
      "********\n"
     ]
    }
   ],
   "source": [
    "dataset = metaTrainVideoDataset(\n",
    "    K = 8,\n",
    "    rootDir = '../../dataForFewShotTalkingHeadModel/train/mp4/',\n",
    "    outputDir = '../../dataForFewShotTalkingHeadModel/train/output/', \n",
    "    randomFrame = True,\n",
    "    device = 'cpu',\n",
    "    transform = transforms.Compose([\n",
    "            transforms.Resize(256),\n",
    "            transforms.CenterCrop(256),\n",
    "            transforms.ToTensor(),\n",
    "        ])\n",
    "    )\n",
    "\n",
    "dataLoader = DataLoader(dataset, batch_size=2, shuffle=False)"
   ]
  },
  {
   "cell_type": "code",
   "execution_count": 4,
   "metadata": {},
   "outputs": [
    {
     "data": {
      "text/plain": [
       "4"
      ]
     },
     "execution_count": 4,
     "metadata": {},
     "output_type": "execute_result"
    }
   ],
   "source": [
    "dataset.personNumber"
   ]
  },
  {
   "cell_type": "code",
   "execution_count": 5,
   "metadata": {},
   "outputs": [],
   "source": [
    "idx, data_array = dataset[0]"
   ]
  },
  {
   "cell_type": "code",
   "execution_count": 6,
   "metadata": {},
   "outputs": [],
   "source": [
    "idxBatch, landmarkFramesBatch = next(iter(dataLoader))"
   ]
  },
  {
   "cell_type": "code",
   "execution_count": 7,
   "metadata": {},
   "outputs": [
    {
     "data": {
      "text/plain": [
       "484"
      ]
     },
     "execution_count": 7,
     "metadata": {},
     "output_type": "execute_result"
    }
   ],
   "source": [
    "len(dataLoader)"
   ]
  },
  {
   "cell_type": "code",
   "execution_count": 12,
   "metadata": {},
   "outputs": [
    {
     "data": {
      "text/plain": [
       "tensor([0, 0])"
      ]
     },
     "execution_count": 12,
     "metadata": {},
     "output_type": "execute_result"
    }
   ],
   "source": [
    "idxBatch"
   ]
  },
  {
   "cell_type": "code",
   "execution_count": 9,
   "metadata": {},
   "outputs": [
    {
     "data": {
      "text/plain": [
       "torch.Size([2, 9, 2, 3, 256, 256])"
      ]
     },
     "execution_count": 9,
     "metadata": {},
     "output_type": "execute_result"
    }
   ],
   "source": [
    "landmarkFramesBatch.shape"
   ]
  },
  {
   "cell_type": "code",
   "execution_count": 11,
   "metadata": {},
   "outputs": [
    {
     "data": {
      "text/plain": [
       "<matplotlib.image.AxesImage at 0x1b2f596cbe0>"
      ]
     },
     "execution_count": 11,
     "metadata": {},
     "output_type": "execute_result"
    },
    {
     "data": {
      "image/png": "[encoded data removed]",
      "text/plain": [
       "<Figure size 432x288 with 1 Axes>"
      ]
     },
     "metadata": {
      "needs_background": "light"
     },
     "output_type": "display_data"
    }
   ],
   "source": [
    "plt.imshow(landmarkFramesBatch[1, 2, 0].permute(1, 2, 0))"
   ]
  },
  {
   "cell_type": "code",
   "execution_count": null,
   "metadata": {},
   "outputs": [],
   "source": []
  },
  {
   "cell_type": "code",
   "execution_count": null,
   "metadata": {},
   "outputs": [],
   "source": []
  }
 ],
 "metadata": {
  "kernelspec": {
   "display_name": "Python 3",
   "language": "python",
   "name": "python3"
  },
  "language_info": {
   "codemirror_mode": {
    "name": "ipython",
    "version": 3
   },
   "file_extension": ".py",
   "mimetype": "text/x-python",
   "name": "python",
   "nbconvert_exporter": "python",
   "pygments_lexer": "ipython3",
   "version": "3.7.3"
  }
 },
 "nbformat": 4,
 "nbformat_minor": 2
}
