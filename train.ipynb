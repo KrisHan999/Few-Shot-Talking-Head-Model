{
 "cells": [
  {
   "cell_type": "code",
   "execution_count": 1,
   "metadata": {},
   "outputs": [],
   "source": [
    "import argparse\n",
    "from dataset.customeDataset import *\n",
    "from torch.utils.data import DataLoader\n",
    "from torchvision import transforms"
   ]
  },
  {
   "cell_type": "code",
   "execution_count": 2,
   "metadata": {},
   "outputs": [],
   "source": [
    "dataset = metaTrainVideoDataset(\n",
    "    K = 8,\n",
    "    rootDir='../dataForFewShotTalkingHeadModel/train/mp4/',\n",
    "    outputDir='../dataForFewShotTalkingHeadModel/train/output/',\n",
    "    randomFrame = True,\n",
    "    device = 'cpu',\n",
    "    transform = transforms.Compose([\n",
    "            transforms.Resize(256),\n",
    "            transforms.CenterCrop(256),\n",
    "            transforms.ToTensor(),\n",
    "        ])\n",
    "    )\n",
    "\n",
    "dataLoader = DataLoader(dataset, batch_size=2, shuffle=False)"
   ]
  },
  {
   "cell_type": "code",
   "execution_count": 3,
   "metadata": {},
   "outputs": [
    {
     "name": "stdout",
     "output_type": "stream",
     "text": [
      "../dataForFewShotTalkingHeadModel/train/output/01dfn2spqyE.vid\n"
     ]
    }
   ],
   "source": [
    "idx, data_array = dataset[0]"
   ]
  },
  {
   "cell_type": "code",
   "execution_count": 4,
   "metadata": {},
   "outputs": [
    {
     "name": "stdout",
     "output_type": "stream",
     "text": [
      "../dataForFewShotTalkingHeadModel/train/output/01dfn2spqyE.vid\n",
      "../dataForFewShotTalkingHeadModel/train/output/5MkXgwdrmJw.vid\n"
     ]
    }
   ],
   "source": [
    "idxBatch, landmarkFramesBatch = next(iter(dataLoader))"
   ]
  },
  {
   "cell_type": "code",
   "execution_count": null,
   "metadata": {},
   "outputs": [],
   "source": []
  }
 ],
 "metadata": {
  "kernelspec": {
   "display_name": "Python 3",
   "language": "python",
   "name": "python3"
  },
  "language_info": {
   "codemirror_mode": {
    "name": "ipython",
    "version": 3
   },
   "file_extension": ".py",
   "mimetype": "text/x-python",
   "name": "python",
   "nbconvert_exporter": "python",
   "pygments_lexer": "ipython3",
   "version": "3.7.3"
  }
 },
 "nbformat": 4,
 "nbformat_minor": 2
}
